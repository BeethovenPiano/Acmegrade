{
 "cells": [
  {
   "cell_type": "markdown",
   "id": "85922e12",
   "metadata": {},
   "source": [
    "1.What is the output of the following code?\n"
   ]
  },
  {
   "cell_type": "code",
   "execution_count": 1,
   "id": "26479f81",
   "metadata": {},
   "outputs": [
    {
     "name": "stdout",
     "output_type": "stream",
     "text": [
      "4\n"
     ]
    }
   ],
   "source": [
    "nums = set([1,1,2,3,3,3,4,4])\n",
    "print(len(nums))\n"
   ]
  },
  {
   "cell_type": "markdown",
   "id": "377b9f52",
   "metadata": {},
   "source": [
    "2.What will be the output?\n",
    "\n"
   ]
  },
  {
   "cell_type": "code",
   "execution_count": 4,
   "id": "71e7bea0",
   "metadata": {},
   "outputs": [
    {
     "name": "stdout",
     "output_type": "stream",
     "text": [
      "['john', 'peter']\n"
     ]
    }
   ],
   "source": [
    "d = {\"john\":40, \"peter\":45}\n",
    "print(list(d.keys()))"
   ]
  },
  {
   "cell_type": "markdown",
   "id": "7c8fd4fe",
   "metadata": {},
   "source": [
    "3. Write a for loop that prints all elements of a list and their position in the list.\n",
    "a = [4,7,3,2,5,9]\n"
   ]
  },
  {
   "cell_type": "code",
   "execution_count": 9,
   "id": "ee758252",
   "metadata": {},
   "outputs": [
    {
     "name": "stdout",
     "output_type": "stream",
     "text": [
      "4 is at position 1\n",
      "7 is at position 2\n",
      "3 is at position 3\n",
      "2 is at position 4\n",
      "5 is at position 5\n",
      "9 is at position 6\n"
     ]
    }
   ],
   "source": [
    "a=[4,7,3,2,5,9]\n",
    "for ele in a:\n",
    "    print(str(ele)+\" is at position \"+str(a.index(ele)+1))\n",
    "    "
   ]
  },
  {
   "cell_type": "markdown",
   "id": "de7e9718",
   "metadata": {},
   "source": [
    "4.Please write a program which accepts a string from console and print the characters that have even indexes."
   ]
  },
  {
   "cell_type": "code",
   "execution_count": 10,
   "id": "aa71e579",
   "metadata": {},
   "outputs": [
    {
     "name": "stdout",
     "output_type": "stream",
     "text": [
      "Input the stringH1e2l3l4o5w6o7r8l9d\n",
      "Helloworld\n"
     ]
    }
   ],
   "source": [
    "s=input(\"Input the string\")\n",
    "print(s[::2])"
   ]
  },
  {
   "cell_type": "markdown",
   "id": "2df3a68f",
   "metadata": {},
   "source": [
    "5.Please write a program which accepts a string from console and print it in reverse order."
   ]
  },
  {
   "cell_type": "code",
   "execution_count": 4,
   "id": "6f78df94",
   "metadata": {},
   "outputs": [
    {
     "name": "stdout",
     "output_type": "stream",
     "text": [
      "Enter the string which you want to reverse :rise to vote sir\n",
      "ris etov ot esir\n"
     ]
    }
   ],
   "source": [
    "s=input('Enter the string which you want to reverse :')\n",
    "rev_s=s[::-1]\n",
    "print(rev_s)"
   ]
  },
  {
   "cell_type": "markdown",
   "id": "3e16a60e",
   "metadata": {},
   "source": [
    "6.Please write a program which count and print the numbers of each character in a string input by console."
   ]
  },
  {
   "cell_type": "code",
   "execution_count": 6,
   "id": "d7ce6306",
   "metadata": {},
   "outputs": [
    {
     "name": "stdout",
     "output_type": "stream",
     "text": [
      "Enter Stringabcdefgabc\n",
      "a,2\n",
      "b,2\n",
      "c,2\n",
      "d,1\n",
      "e,1\n",
      "f,1\n",
      "g,1\n"
     ]
    }
   ],
   "source": [
    "dic={}\n",
    "s=input('Enter String')\n",
    "for key in s:\n",
    "    dic[key]=dic.get(key,0)+1\n",
    "print(\"\\n\".join([\"%s,%s\" %(k,v) for k,v in dic.items()]))"
   ]
  },
  {
   "cell_type": "markdown",
   "id": "8cf94462",
   "metadata": {},
   "source": [
    "7.With two given lists [1,3,6,78,35,55] and [12,24,35,24,88,120,155], write a program to make a list whose elements are intersection of the above given lists."
   ]
  },
  {
   "cell_type": "code",
   "execution_count": 15,
   "id": "160c4ef8",
   "metadata": {},
   "outputs": [
    {
     "name": "stdout",
     "output_type": "stream",
     "text": [
      "[35]\n"
     ]
    }
   ],
   "source": [
    "l1_to_set=set([1,3,6,78,35,55])\n",
    "l2_to_set=set([12,24,35,24,88,120,155])\n",
    "intersection_of_lists=l1_to_set&l2_to_set\n",
    "print(list(intersection_of_lists))"
   ]
  },
  {
   "cell_type": "markdown",
   "id": "b20914d3",
   "metadata": {},
   "source": [
    "8.Write a program to print the list after removing the value 24 in [12,24,35,24,88,120,155]."
   ]
  },
  {
   "cell_type": "code",
   "execution_count": 18,
   "id": "7d316d5c",
   "metadata": {},
   "outputs": [
    {
     "name": "stdout",
     "output_type": "stream",
     "text": [
      "[12, 35, 88, 120, 155]\n"
     ]
    }
   ],
   "source": [
    "li=[12,24,35,24,88,120,155]\n",
    "li_without_24=[ele for ele in li if ele!=24]\n",
    "print(li_without_24)"
   ]
  },
  {
   "cell_type": "markdown",
   "id": "2f63eccf",
   "metadata": {},
   "source": [
    "9.Write a program to print the list after removing the 0th,4th,5th numbers in [12,24,35,70,88,120,155]."
   ]
  },
  {
   "cell_type": "code",
   "execution_count": 19,
   "id": "c55fa00e",
   "metadata": {},
   "outputs": [
    {
     "name": "stdout",
     "output_type": "stream",
     "text": [
      "[24, 35, 70, 155]\n"
     ]
    }
   ],
   "source": [
    "li=[12,24,35,70,88,120,155]\n",
    "after_remove=[value for (index,value) in enumerate(li) if index not in (0,4,5)]\n",
    "print(after_remove)\n"
   ]
  },
  {
   "cell_type": "markdown",
   "id": "5daa76cc",
   "metadata": {},
   "source": [
    "10.Write a program to print the list after removing delete numbers which are divisible by 5 and 7 in [12,24,35,70,88,120,155]."
   ]
  },
  {
   "cell_type": "code",
   "execution_count": 26,
   "id": "142c1e3e",
   "metadata": {},
   "outputs": [
    {
     "name": "stdout",
     "output_type": "stream",
     "text": [
      "[12, 24, 88, 120, 155]\n"
     ]
    }
   ],
   "source": [
    "li=[12,24,35,70,88,120,155]\n",
    "delete_numbers_divisibleby5_and7=[ele for ele in li if not (ele%5==0 and ele%7==0)]\n",
    "print(delete_numbers_divisibleby5_and7)"
   ]
  },
  {
   "cell_type": "markdown",
   "id": "d20ca8e5",
   "metadata": {},
   "source": [
    "11.Write a program to compute 1/2+2/3+3/4+...+n/n+1 with a given n input by console (n>0)."
   ]
  },
  {
   "cell_type": "code",
   "execution_count": 31,
   "id": "c7bda474",
   "metadata": {},
   "outputs": [
    {
     "name": "stdout",
     "output_type": "stream",
     "text": [
      "Enter a number: 5\n",
      "3.5500000000000003\n"
     ]
    }
   ],
   "source": [
    "n=int(input('Enter a number: '))\n",
    "sum=0.0\n",
    "for i in range(1,n+1):\n",
    "    sum+=float(i)/float(i+1)\n",
    "print(sum)"
   ]
  },
  {
   "cell_type": "code",
   "execution_count": null,
   "id": "b1a13dc2",
   "metadata": {},
   "outputs": [],
   "source": []
  },
  {
   "cell_type": "code",
   "execution_count": null,
   "id": "de9f83fe",
   "metadata": {},
   "outputs": [],
   "source": []
  }
 ],
 "metadata": {
  "kernelspec": {
   "display_name": "Python 3 (ipykernel)",
   "language": "python",
   "name": "python3"
  },
  "language_info": {
   "codemirror_mode": {
    "name": "ipython",
    "version": 3
   },
   "file_extension": ".py",
   "mimetype": "text/x-python",
   "name": "python",
   "nbconvert_exporter": "python",
   "pygments_lexer": "ipython3",
   "version": "3.9.12"
  }
 },
 "nbformat": 4,
 "nbformat_minor": 5
}
