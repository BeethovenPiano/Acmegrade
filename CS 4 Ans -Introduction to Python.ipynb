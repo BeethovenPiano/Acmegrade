{
 "cells": [
  {
   "cell_type": "markdown",
   "id": "c1e9f368",
   "metadata": {},
   "source": [
    "1.Write a program which will find factors of given number and find whether the factor is even or odd."
   ]
  },
  {
   "cell_type": "code",
   "execution_count": 4,
   "id": "4c97c658",
   "metadata": {},
   "outputs": [
    {
     "name": "stdout",
     "output_type": "stream",
     "text": [
      "factor is odd: 1\n",
      "Factor is even: 2\n",
      "factor is odd: 5\n",
      "Factor is even: 10\n",
      "factor is odd: 25\n",
      "Factor is even: 50\n"
     ]
    }
   ],
   "source": [
    "n=50\n",
    "for i in range(1,n+1):\n",
    "    if n%i==0 and i%2==0:\n",
    "        print(\"Factor is even: %d\"%(i))\n",
    "    elif n%i==0 and i%2!=0:\n",
    "        print(\"factor is odd: %d\"%(i))\n",
    "    else:\n",
    "        pass\n",
    "        "
   ]
  },
  {
   "cell_type": "markdown",
   "id": "bfa7eec2",
   "metadata": {},
   "source": [
    "2.Write a code which accepts a sequence of words as input and prints the words in a sequence after sorting them alphabetically.\n"
   ]
  },
  {
   "cell_type": "code",
   "execution_count": 9,
   "id": "97c184aa",
   "metadata": {},
   "outputs": [
    {
     "name": "stdout",
     "output_type": "stream",
     "text": [
      "Input the sequence of words: Welcome to Python\n",
      "Python\n",
      "Welcome\n",
      "to\n"
     ]
    }
   ],
   "source": [
    "sequence_words=input(\"Input the sequence of words: \")\n",
    "words_split=sequence_words.split(\" \")\n",
    "words_sorted=sorted(words_split)\n",
    "for word in words_sorted:\n",
    "    print(word)"
   ]
  },
  {
   "cell_type": "markdown",
   "id": "69549b07",
   "metadata": {},
   "source": [
    "3.Write a program, which will find all the numbers between 1000 and 3000 (both included) such that each digit of a number is an even number. The numbers obtained should be printed in a comma separated sequence on a single line."
   ]
  },
  {
   "cell_type": "code",
   "execution_count": 23,
   "id": "0d2a504d",
   "metadata": {},
   "outputs": [
    {
     "name": "stdout",
     "output_type": "stream",
     "text": [
      "2000,2002,2004,2006,2008,2020,2022,2024,2026,2028,2040,2042,2044,2046,2048,2060,2062,2064,2066,2068,2080,2082,2084,2086,2088,2200,2202,2204,2206,2208,2220,2222,2224,2226,2228,2240,2242,2244,2246,2248,2260,2262,2264,2266,2268,2280,2282,2284,2286,2288,2400,2402,2404,2406,2408,2420,2422,2424,2426,2428,2440,2442,2444,2446,2448,2460,2462,2464,2466,2468,2480,2482,2484,2486,2488,2600,2602,2604,2606,2608,2620,2622,2624,2626,2628,2640,2642,2644,2646,2648,2660,2662,2664,2666,2668,2680,2682,2684,2686,2688,2800,2802,2804,2806,2808,2820,2822,2824,2826,2828,2840,2842,2844,2846,2848,2860,2862,2864,2866,2868,2880,2882,2884,2886,2888\n"
     ]
    }
   ],
   "source": [
    "values = []\n",
    "for i in range(1000,3001):\n",
    "    s = str(i)\n",
    "    if (int(s[0])%2==0) and (int(s[1])%2==0) and (int(s[2])%2==0) and (int(s[3])%2==0):\n",
    "        values.append(s)\n",
    "\n",
    "print (\",\".join(values))\n"
   ]
  },
  {
   "cell_type": "markdown",
   "id": "d35801e2",
   "metadata": {},
   "source": [
    "4.Write a program that accepts a sentence and calculate the number of letters and digits.\n",
    "\n"
   ]
  },
  {
   "cell_type": "code",
   "execution_count": 8,
   "id": "91771f22",
   "metadata": {},
   "outputs": [
    {
     "name": "stdout",
     "output_type": "stream",
     "text": [
      "Input the string: Python0325\n",
      "LETTERS: 6\n",
      "DIGITS: 4\n"
     ]
    }
   ],
   "source": [
    "s=input(\"Input the string: \")\n",
    "count_of_digits_and_letters={\"digits\":0,\"letters\":0}\n",
    "for char in s:\n",
    "    if char.isdigit():\n",
    "        count_of_digits_and_letters[\"digits\"]+=1\n",
    "    elif char.isalpha():\n",
    "            count_of_digits_and_letters[\"letters\"]+=1\n",
    "    else:\n",
    "        pass\n",
    "print(\"LETTERS:\",count_of_digits_and_letters[\"letters\"])\n",
    "print(\"DIGITS:\",count_of_digits_and_letters[\"digits\"])\n",
    "            "
   ]
  },
  {
   "cell_type": "markdown",
   "id": "b251b16b",
   "metadata": {},
   "source": [
    "5.Design a code which will find the given number is Palindrome number or not."
   ]
  },
  {
   "cell_type": "code",
   "execution_count": 20,
   "id": "b3c2cbab",
   "metadata": {},
   "outputs": [
    {
     "name": "stdout",
     "output_type": "stream",
     "text": [
      "Input the string: aIbohPhoBiA\n",
      "It is a palindrome\n"
     ]
    }
   ],
   "source": [
    "string=input(\"Input the string: \")\n",
    "caseless_comparision=string.casefold()\n",
    "rev_string=reversed(caseless_comparision)\n",
    "if list(caseless_comparision) == list(rev_string):\n",
    "    print(\"It is a palindrome\")\n",
    "else:\n",
    "    print(\"It is not a palindrome\")\n",
    "    "
   ]
  },
  {
   "cell_type": "code",
   "execution_count": null,
   "id": "a31fe744",
   "metadata": {},
   "outputs": [],
   "source": [
    "\n"
   ]
  },
  {
   "cell_type": "code",
   "execution_count": null,
   "id": "26923080",
   "metadata": {},
   "outputs": [],
   "source": []
  }
 ],
 "metadata": {
  "kernelspec": {
   "display_name": "Python 3 (ipykernel)",
   "language": "python",
   "name": "python3"
  },
  "language_info": {
   "codemirror_mode": {
    "name": "ipython",
    "version": 3
   },
   "file_extension": ".py",
   "mimetype": "text/x-python",
   "name": "python",
   "nbconvert_exporter": "python",
   "pygments_lexer": "ipython3",
   "version": "3.9.12"
  }
 },
 "nbformat": 4,
 "nbformat_minor": 5
}
