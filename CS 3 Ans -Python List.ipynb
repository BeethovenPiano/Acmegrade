{
 "cells": [
  {
   "cell_type": "markdown",
   "id": "80987c77",
   "metadata": {},
   "source": [
    "1.Write a Python program to sum all the items in a list."
   ]
  },
  {
   "cell_type": "code",
   "execution_count": 3,
   "id": "a55e8612",
   "metadata": {},
   "outputs": [],
   "source": [
    "def sum_list(list):\n",
    "    sum=0\n",
    "    for ele in list:\n",
    "        sum+=ele\n",
    "    return sum"
   ]
  },
  {
   "cell_type": "code",
   "execution_count": 4,
   "id": "b765b365",
   "metadata": {},
   "outputs": [
    {
     "name": "stdout",
     "output_type": "stream",
     "text": [
      "-5\n"
     ]
    }
   ],
   "source": [
    "print(sum_list([1,2,-8]))"
   ]
  },
  {
   "cell_type": "markdown",
   "id": "35434a50",
   "metadata": {},
   "source": [
    "2.Write a Python program to multiplies all the items in a list"
   ]
  },
  {
   "cell_type": "code",
   "execution_count": 5,
   "id": "425796eb",
   "metadata": {},
   "outputs": [],
   "source": [
    "def multiply_list(list):\n",
    "    mul=1\n",
    "    for ele in list:\n",
    "        mul*=ele\n",
    "    return mul"
   ]
  },
  {
   "cell_type": "code",
   "execution_count": 6,
   "id": "02374bbd",
   "metadata": {},
   "outputs": [
    {
     "name": "stdout",
     "output_type": "stream",
     "text": [
      "-16\n"
     ]
    }
   ],
   "source": [
    "print(multiply_list([1,2,-8]))"
   ]
  },
  {
   "cell_type": "markdown",
   "id": "52d7730f",
   "metadata": {},
   "source": [
    "3.Write a Python program to get the largest number from a list. "
   ]
  },
  {
   "cell_type": "code",
   "execution_count": 23,
   "id": "db07557c",
   "metadata": {},
   "outputs": [],
   "source": [
    "def max_num_in_list(list):\n",
    "    max=list[0]\n",
    "    for ele in list:\n",
    "        if(ele>max):\n",
    "            max=ele\n",
    "    return max"
   ]
  },
  {
   "cell_type": "code",
   "execution_count": 24,
   "id": "7fcc4d3c",
   "metadata": {},
   "outputs": [
    {
     "name": "stdout",
     "output_type": "stream",
     "text": [
      "2\n"
     ]
    }
   ],
   "source": [
    "print(max_num_in_list([1, 2, -8, 0]))"
   ]
  },
  {
   "cell_type": "markdown",
   "id": "b87f5272",
   "metadata": {},
   "source": [
    "4.4. Write a Python program to get the smallest number from a list."
   ]
  },
  {
   "cell_type": "code",
   "execution_count": 25,
   "id": "c268c8cc",
   "metadata": {},
   "outputs": [],
   "source": [
    "def smallest_num_in_list(list):\n",
    "    min=list[0]\n",
    "    for ele in list:\n",
    "        if(ele<min):\n",
    "            min=ele\n",
    "    return min"
   ]
  },
  {
   "cell_type": "code",
   "execution_count": 26,
   "id": "4bc1295c",
   "metadata": {},
   "outputs": [
    {
     "name": "stdout",
     "output_type": "stream",
     "text": [
      "-8\n"
     ]
    }
   ],
   "source": [
    "print(smallest_num_in_list([1, 2, -8, 0]))"
   ]
  },
  {
   "cell_type": "markdown",
   "id": "0547db2a",
   "metadata": {},
   "source": [
    "5.Write a Python program to count the number of strings where the string length is 2 or more and the first and last character are same from a given list of strings.  \n",
    "Sample List : ['abc', 'xyz', 'aba', '1221']\n",
    "Expected Result : 2"
   ]
  },
  {
   "cell_type": "code",
   "execution_count": 27,
   "id": "dcc330ba",
   "metadata": {},
   "outputs": [],
   "source": [
    "def match_words(words):\n",
    "    count=0\n",
    "    for ele in words:\n",
    "        if len(ele)>1 and (ele[0]==ele[-1]):\n",
    "            count=count+1\n",
    "    return count"
   ]
  },
  {
   "cell_type": "code",
   "execution_count": 28,
   "id": "5538329d",
   "metadata": {},
   "outputs": [
    {
     "name": "stdout",
     "output_type": "stream",
     "text": [
      "2\n"
     ]
    }
   ],
   "source": [
    "print(match_words(['abc', 'xyz', 'aba', '1221']))"
   ]
  },
  {
   "cell_type": "markdown",
   "id": "e94eedf3",
   "metadata": {},
   "source": [
    "6.Write a Python program to get a list, sorted in increasing order by the last element in each tuple from a given list of non-empty tuples.  \n",
    "Sample List : [(2, 5), (1, 2), (4, 4), (2, 3), (2, 1)]\n",
    "Expected Result : [(2, 1), (1, 2), (2, 3), (4, 4), (2, 5)]\n"
   ]
  },
  {
   "cell_type": "code",
   "execution_count": 38,
   "id": "3509ce79",
   "metadata": {},
   "outputs": [
    {
     "name": "stdout",
     "output_type": "stream",
     "text": [
      "[(2, 1), (1, 2), (2, 3), (4, 4), (2, 5)]\n"
     ]
    }
   ],
   "source": [
    "def last(ele):\n",
    "    return ele[-1]\n",
    "def sort_list_last(tuple):\n",
    "    return sorted(tuple,key=last)\n",
    "print(sort_list_last([(2, 5), (1, 2), (4, 4), (2, 3), (2, 1)]))\n",
    "    "
   ]
  },
  {
   "cell_type": "markdown",
   "id": "7da22a52",
   "metadata": {},
   "source": [
    "7.Write a Python program to remove duplicates from a list.\n"
   ]
  },
  {
   "cell_type": "code",
   "execution_count": 63,
   "id": "1e1bb0d3",
   "metadata": {},
   "outputs": [],
   "source": [
    "def remove_duplicates(list):\n",
    "    unique_list=[]\n",
    "    for ele in list:\n",
    "        if ele not in unique_list:\n",
    "            unique_list.append(ele)\n",
    "    return unique_list"
   ]
  },
  {
   "cell_type": "code",
   "execution_count": 64,
   "id": "9fc94409",
   "metadata": {},
   "outputs": [
    {
     "name": "stdout",
     "output_type": "stream",
     "text": [
      "[10, 20, 30, 50, 60, 40, 80]\n"
     ]
    }
   ],
   "source": [
    "print(remove_duplicates( [10,20,30,20,10,50,60,40,80,50,40]))"
   ]
  },
  {
   "cell_type": "markdown",
   "id": "640a76d8",
   "metadata": {},
   "source": [
    "8.Write a Python program to check a list is empty or not.\n"
   ]
  },
  {
   "cell_type": "code",
   "execution_count": 86,
   "id": "5b8b27d4",
   "metadata": {},
   "outputs": [],
   "source": [
    "def check_list(list):\n",
    "    if len(list)==0:\n",
    "        print('List is empty')\n",
    "    else:\n",
    "        print('List is not empty')\n"
   ]
  },
  {
   "cell_type": "code",
   "execution_count": 87,
   "id": "715670d9",
   "metadata": {},
   "outputs": [
    {
     "name": "stdout",
     "output_type": "stream",
     "text": [
      "List is not empty\n"
     ]
    }
   ],
   "source": [
    "check_list([0,1])"
   ]
  },
  {
   "cell_type": "code",
   "execution_count": 88,
   "id": "4a77d28a",
   "metadata": {},
   "outputs": [
    {
     "name": "stdout",
     "output_type": "stream",
     "text": [
      "List is empty\n"
     ]
    }
   ],
   "source": [
    "check_list([])"
   ]
  },
  {
   "cell_type": "markdown",
   "id": "948646ed",
   "metadata": {},
   "source": [
    "9.Write a Python program to clone or copy a list."
   ]
  },
  {
   "cell_type": "code",
   "execution_count": 89,
   "id": "a59570d0",
   "metadata": {},
   "outputs": [
    {
     "name": "stdout",
     "output_type": "stream",
     "text": [
      "[10, 22, 44, 23, 4]\n",
      "[10, 22, 44, 23, 4]\n"
     ]
    }
   ],
   "source": [
    "original_list=[10,22,44,23,4]\n",
    "new_list=original_list.copy()\n",
    "print(original_list)\n",
    "print(new_list)"
   ]
  },
  {
   "cell_type": "markdown",
   "id": "13774d91",
   "metadata": {},
   "source": [
    "10.Write a Python program to find the list of words that are longer than n from a given list of words."
   ]
  },
  {
   "cell_type": "code",
   "execution_count": 95,
   "id": "e08537f2",
   "metadata": {},
   "outputs": [],
   "source": [
    "def long_words(n,str):\n",
    "    word_len=[]\n",
    "    word=str.split(\" \")\n",
    "    for ele in word:\n",
    "        if len(ele)>n:\n",
    "            word_len.append(ele)\n",
    "    return word_len"
   ]
  },
  {
   "cell_type": "code",
   "execution_count": 96,
   "id": "5ee51308",
   "metadata": {},
   "outputs": [
    {
     "name": "stdout",
     "output_type": "stream",
     "text": [
      "['quick', 'brown', 'jumps', 'over', 'lazy']\n"
     ]
    }
   ],
   "source": [
    "print(long_words(3, \"The quick brown fox jumps over the lazy dog\"))\n"
   ]
  },
  {
   "cell_type": "markdown",
   "id": "e7cd4339",
   "metadata": {},
   "source": [
    "11.Write a Python function that takes two lists and returns True if they have at least one common member.\n",
    "\n"
   ]
  },
  {
   "cell_type": "code",
   "execution_count": 101,
   "id": "d985354e",
   "metadata": {},
   "outputs": [],
   "source": [
    "def common_data(list1,list2):\n",
    "    for ele1 in list1:\n",
    "        if ele1 in list2:\n",
    "            return True\n",
    "        else:\n",
    "            return False"
   ]
  },
  {
   "cell_type": "code",
   "execution_count": 102,
   "id": "99295501",
   "metadata": {},
   "outputs": [
    {
     "name": "stdout",
     "output_type": "stream",
     "text": [
      "False\n"
     ]
    }
   ],
   "source": [
    "print(common_data([1,2,3,4,5], [5,6,7,8,9]))\n"
   ]
  },
  {
   "cell_type": "code",
   "execution_count": 103,
   "id": "81c3a890",
   "metadata": {},
   "outputs": [
    {
     "name": "stdout",
     "output_type": "stream",
     "text": [
      "False\n"
     ]
    }
   ],
   "source": [
    "print(common_data([1,2,3,4,5], [6,7,8,9]))"
   ]
  },
  {
   "cell_type": "markdown",
   "id": "a4bbb163",
   "metadata": {},
   "source": [
    "12.Write a Python program to print a specified list after removing the 0th, 4th and 5th elements.  \n",
    "Sample List : ['Red', 'Green', 'White', 'Black', 'Pink', 'Yellow']\n",
    "Expected Output : ['Green', 'White', 'Black']"
   ]
  },
  {
   "cell_type": "code",
   "execution_count": 113,
   "id": "d5a4c232",
   "metadata": {},
   "outputs": [
    {
     "name": "stdout",
     "output_type": "stream",
     "text": [
      "['Green', 'White', 'Black']\n"
     ]
    }
   ],
   "source": [
    "color = ['Red', 'Green', 'White', 'Black', 'Pink', 'Yellow']\n",
    "new_color=[value for (index,value) in enumerate(color) if index not in (0,4,5)]\n",
    "print(new_color)"
   ]
  },
  {
   "cell_type": "code",
   "execution_count": null,
   "id": "18dcd8f0",
   "metadata": {},
   "outputs": [],
   "source": []
  },
  {
   "cell_type": "code",
   "execution_count": null,
   "id": "bedd9e0b",
   "metadata": {},
   "outputs": [],
   "source": []
  }
 ],
 "metadata": {
  "kernelspec": {
   "display_name": "Python 3 (ipykernel)",
   "language": "python",
   "name": "python3"
  },
  "language_info": {
   "codemirror_mode": {
    "name": "ipython",
    "version": 3
   },
   "file_extension": ".py",
   "mimetype": "text/x-python",
   "name": "python",
   "nbconvert_exporter": "python",
   "pygments_lexer": "ipython3",
   "version": "3.9.12"
  }
 },
 "nbformat": 4,
 "nbformat_minor": 5
}
