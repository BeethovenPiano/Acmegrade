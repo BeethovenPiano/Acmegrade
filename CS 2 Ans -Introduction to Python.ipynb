{
 "cells": [
  {
   "cell_type": "markdown",
   "id": "ad2f8524",
   "metadata": {},
   "source": [
    "1. Write a Python program to count the number 4 in a given list.  "
   ]
  },
  {
   "cell_type": "code",
   "execution_count": 1,
   "id": "c3b3fb48",
   "metadata": {},
   "outputs": [],
   "source": [
    "def list_count_4(nums):\n",
    "    count=0\n",
    "    for i in nums:\n",
    "        if i==4:\n",
    "            count=count+1\n",
    "    return count"
   ]
  },
  {
   "cell_type": "code",
   "execution_count": 2,
   "id": "40bca6d9",
   "metadata": {},
   "outputs": [
    {
     "name": "stdout",
     "output_type": "stream",
     "text": [
      "2\n"
     ]
    }
   ],
   "source": [
    "print(list_count_4([1,4,6,7,4]))"
   ]
  },
  {
   "cell_type": "code",
   "execution_count": 4,
   "id": "66a2e2c9",
   "metadata": {},
   "outputs": [
    {
     "name": "stdout",
     "output_type": "stream",
     "text": [
      "3\n"
     ]
    }
   ],
   "source": [
    "print(list_count_4([1,4,6,4,7,4]))"
   ]
  },
  {
   "cell_type": "markdown",
   "id": "d0a3d3e4",
   "metadata": {},
   "source": [
    " 2. Write a Python program to test whether a passed letter is a vowel or not.  "
   ]
  },
  {
   "cell_type": "code",
   "execution_count": 5,
   "id": "daff4b71",
   "metadata": {},
   "outputs": [],
   "source": [
    "def is_vowel(char):\n",
    "    all_vowels='aeiou'\n",
    "    return char in all_vowels"
   ]
  },
  {
   "cell_type": "code",
   "execution_count": 6,
   "id": "c95d6f90",
   "metadata": {},
   "outputs": [
    {
     "name": "stdout",
     "output_type": "stream",
     "text": [
      "False\n"
     ]
    }
   ],
   "source": [
    "print(is_vowel('c'))"
   ]
  },
  {
   "cell_type": "code",
   "execution_count": 7,
   "id": "f1117642",
   "metadata": {},
   "outputs": [
    {
     "name": "stdout",
     "output_type": "stream",
     "text": [
      "True\n"
     ]
    }
   ],
   "source": [
    "print(is_vowel('e'))"
   ]
  },
  {
   "cell_type": "markdown",
   "id": "6f6610c0",
   "metadata": {},
   "source": [
    "3. Write a Python program to check whether a specified value is contained in a group of values.  "
   ]
  },
  {
   "cell_type": "code",
   "execution_count": 9,
   "id": "ca9e630a",
   "metadata": {},
   "outputs": [],
   "source": [
    "def is_group_member(group_data,n):\n",
    "    for value in group_data:\n",
    "        if n==value:\n",
    "            return True\n",
    "    return False"
   ]
  },
  {
   "cell_type": "code",
   "execution_count": 10,
   "id": "4bce77e7",
   "metadata": {},
   "outputs": [
    {
     "name": "stdout",
     "output_type": "stream",
     "text": [
      "True\n"
     ]
    }
   ],
   "source": [
    "print(is_group_member([1, 5, 8, 3], 3))"
   ]
  },
  {
   "cell_type": "code",
   "execution_count": 11,
   "id": "2b796678",
   "metadata": {},
   "outputs": [
    {
     "name": "stdout",
     "output_type": "stream",
     "text": [
      "False\n"
     ]
    }
   ],
   "source": [
    "print(is_group_member([5, 8, 3], -1))"
   ]
  },
  {
   "cell_type": "markdown",
   "id": "1a6db0b6",
   "metadata": {},
   "source": [
    "4. Write a Python program to create a histogram from a given list of integers. "
   ]
  },
  {
   "cell_type": "code",
   "execution_count": 37,
   "id": "dd53af54",
   "metadata": {},
   "outputs": [],
   "source": [
    "def histogram(item):\n",
    "    for value in item:\n",
    "        output=\"\"\n",
    "        output+='@'*value\n",
    "        print(output)"
   ]
  },
  {
   "cell_type": "code",
   "execution_count": 38,
   "id": "7b51f537",
   "metadata": {},
   "outputs": [
    {
     "name": "stdout",
     "output_type": "stream",
     "text": [
      "@@\n",
      "@@@\n",
      "@@@@@@\n",
      "@@@@@\n"
     ]
    }
   ],
   "source": [
    "histogram([2,3,6,5])"
   ]
  },
  {
   "cell_type": "markdown",
   "id": "ed52923d",
   "metadata": {},
   "source": [
    "5.Write a Python program to concatenate all elements in a list into a string and return it. "
   ]
  },
  {
   "cell_type": "code",
   "execution_count": 39,
   "id": "8e831787",
   "metadata": {},
   "outputs": [],
   "source": [
    "def concatenate_list_data(list):\n",
    "    output=\"\"\n",
    "    for ele in list:\n",
    "        output+=str(ele)\n",
    "    return output"
   ]
  },
  {
   "cell_type": "code",
   "execution_count": 40,
   "id": "b411c915",
   "metadata": {},
   "outputs": [
    {
     "name": "stdout",
     "output_type": "stream",
     "text": [
      "15122\n"
     ]
    }
   ],
   "source": [
    "print(concatenate_list_data([1, 5, 12, 2]))"
   ]
  },
  {
   "cell_type": "markdown",
   "id": "333e973f",
   "metadata": {},
   "source": [
    "6. Write a Python program that will accept the base and height of a triangle and compute the area. "
   ]
  },
  {
   "cell_type": "code",
   "execution_count": 2,
   "id": "a352d85d",
   "metadata": {},
   "outputs": [
    {
     "name": "stdout",
     "output_type": "stream",
     "text": [
      "Enter the base of the triangle: 5\n",
      "Enter the height of the triangle: 3\n",
      "7.5\n"
     ]
    }
   ],
   "source": [
    "base=int(input(\"Enter the base of the triangle: \"))\n",
    "height=int(input(\"Enter the height of the triangle: \"))\n",
    "area=(base*height)/2\n",
    "print(area)"
   ]
  },
  {
   "cell_type": "markdown",
   "id": "64c8632a",
   "metadata": {},
   "source": [
    " 7. Write a Python program to sum of three given integers. However, if two values are equal sum will be zero. "
   ]
  },
  {
   "cell_type": "code",
   "execution_count": 10,
   "id": "2e95d117",
   "metadata": {},
   "outputs": [],
   "source": [
    "def sum(x,y,z):\n",
    "    if x==y or y==z or z==x:\n",
    "        sum=0\n",
    "    else:\n",
    "        sum=x+y+z\n",
    "    return sum"
   ]
  },
  {
   "cell_type": "code",
   "execution_count": 11,
   "id": "11d653e4",
   "metadata": {},
   "outputs": [
    {
     "name": "stdout",
     "output_type": "stream",
     "text": [
      "0\n"
     ]
    }
   ],
   "source": [
    "print(sum(2, 1, 2))\n"
   ]
  },
  {
   "cell_type": "code",
   "execution_count": 12,
   "id": "a59b5f04",
   "metadata": {},
   "outputs": [
    {
     "name": "stdout",
     "output_type": "stream",
     "text": [
      "0\n"
     ]
    }
   ],
   "source": [
    "print(sum(3, 2, 2))\n"
   ]
  },
  {
   "cell_type": "code",
   "execution_count": 13,
   "id": "e70344db",
   "metadata": {},
   "outputs": [
    {
     "name": "stdout",
     "output_type": "stream",
     "text": [
      "0\n"
     ]
    }
   ],
   "source": [
    "print(sum(2, 2, 2))\n"
   ]
  },
  {
   "cell_type": "code",
   "execution_count": 14,
   "id": "2036c670",
   "metadata": {},
   "outputs": [
    {
     "name": "stdout",
     "output_type": "stream",
     "text": [
      "6\n"
     ]
    }
   ],
   "source": [
    "print(sum(1, 2, 3)) \n"
   ]
  },
  {
   "cell_type": "code",
   "execution_count": 15,
   "id": "d2822d71",
   "metadata": {},
   "outputs": [
    {
     "name": "stdout",
     "output_type": "stream",
     "text": [
      "12\n"
     ]
    }
   ],
   "source": [
    "print(sum(5, 4, 3))"
   ]
  },
  {
   "cell_type": "markdown",
   "id": "6d3fa0e0",
   "metadata": {},
   "source": [
    " 8. Write a Python program to sum of two given integers. However, if the sum is between 15 to 20 it will return 20.  "
   ]
  },
  {
   "cell_type": "code",
   "execution_count": 37,
   "id": "bb161205",
   "metadata": {},
   "outputs": [],
   "source": [
    "def sum(x,y):\n",
    "    sum=x+y\n",
    "    if sum in range(15,20):\n",
    "        return 20\n",
    "    else:\n",
    "        return sum"
   ]
  },
  {
   "cell_type": "code",
   "execution_count": 38,
   "id": "6c98685d",
   "metadata": {},
   "outputs": [
    {
     "name": "stdout",
     "output_type": "stream",
     "text": [
      "20\n"
     ]
    }
   ],
   "source": [
    "print(sum(10, 6))\n"
   ]
  },
  {
   "cell_type": "code",
   "execution_count": 39,
   "id": "d257f444",
   "metadata": {},
   "outputs": [
    {
     "name": "stdout",
     "output_type": "stream",
     "text": [
      "12\n"
     ]
    }
   ],
   "source": [
    "print(sum(10, 2))\n"
   ]
  },
  {
   "cell_type": "code",
   "execution_count": 40,
   "id": "ee36b754",
   "metadata": {},
   "outputs": [
    {
     "name": "stdout",
     "output_type": "stream",
     "text": [
      "22\n"
     ]
    }
   ],
   "source": [
    "print(sum(10, 12))"
   ]
  },
  {
   "cell_type": "markdown",
   "id": "05a42342",
   "metadata": {},
   "source": [
    "9. Write a Python program that will return true if the two given integer values are equal or their sum or difference is 5.  "
   ]
  },
  {
   "cell_type": "code",
   "execution_count": 43,
   "id": "5046b089",
   "metadata": {},
   "outputs": [],
   "source": [
    "def test_number(x,y):\n",
    "    if x==y or x+y==5 or abs(x-y)==5:\n",
    "        return True\n",
    "    else:\n",
    "        return False"
   ]
  },
  {
   "cell_type": "code",
   "execution_count": 45,
   "id": "70f7b440",
   "metadata": {},
   "outputs": [
    {
     "name": "stdout",
     "output_type": "stream",
     "text": [
      "True\n"
     ]
    }
   ],
   "source": [
    "print(test_number(7, 2))\n"
   ]
  },
  {
   "cell_type": "code",
   "execution_count": 46,
   "id": "91b4e136",
   "metadata": {},
   "outputs": [
    {
     "name": "stdout",
     "output_type": "stream",
     "text": [
      "True\n"
     ]
    }
   ],
   "source": [
    "print(test_number(3, 2))\n"
   ]
  },
  {
   "cell_type": "code",
   "execution_count": 47,
   "id": "266d3421",
   "metadata": {},
   "outputs": [
    {
     "name": "stdout",
     "output_type": "stream",
     "text": [
      "True\n"
     ]
    }
   ],
   "source": [
    "print(test_number(2, 2))"
   ]
  },
  {
   "cell_type": "markdown",
   "id": "5d9fe1f7",
   "metadata": {},
   "source": [
    "10. Write a Python program to compute the distance between the points (x1, y1) and (x2, y2).  "
   ]
  },
  {
   "cell_type": "code",
   "execution_count": 51,
   "id": "2f7f06e9",
   "metadata": {},
   "outputs": [
    {
     "name": "stdout",
     "output_type": "stream",
     "text": [
      "6.324555320336759\n"
     ]
    }
   ],
   "source": [
    "import math\n",
    "p1=[4,0]\n",
    "p2=[6,6]\n",
    "distance=math.sqrt(((p2[0]-p1[0])**2)+((p2[1]-p1[1])**2))\n",
    "print(distance)"
   ]
  },
  {
   "cell_type": "code",
   "execution_count": null,
   "id": "b38d733a",
   "metadata": {},
   "outputs": [],
   "source": []
  },
  {
   "cell_type": "code",
   "execution_count": null,
   "id": "1412c3d0",
   "metadata": {},
   "outputs": [],
   "source": []
  }
 ],
 "metadata": {
  "kernelspec": {
   "display_name": "Python 3 (ipykernel)",
   "language": "python",
   "name": "python3"
  },
  "language_info": {
   "codemirror_mode": {
    "name": "ipython",
    "version": 3
   },
   "file_extension": ".py",
   "mimetype": "text/x-python",
   "name": "python",
   "nbconvert_exporter": "python",
   "pygments_lexer": "ipython3",
   "version": "3.9.12"
  }
 },
 "nbformat": 4,
 "nbformat_minor": 5
}
