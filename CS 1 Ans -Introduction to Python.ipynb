{
 "cells": [
  {
   "cell_type": "markdown",
   "id": "e084d11e",
   "metadata": {},
   "source": [
    "1. Write a Python program to get the Python version you are using.  \n"
   ]
  },
  {
   "cell_type": "code",
   "execution_count": 1,
   "id": "aab96bae",
   "metadata": {},
   "outputs": [
    {
     "name": "stdout",
     "output_type": "stream",
     "text": [
      "Python Version\n",
      "3.9.12 (main, Apr  4 2022, 05:22:27) [MSC v.1916 64 bit (AMD64)]\n",
      "Version Info\n",
      "sys.version_info(major=3, minor=9, micro=12, releaselevel='final', serial=0)\n"
     ]
    }
   ],
   "source": [
    "import sys\n",
    "print(\"Python Version\")\n",
    "print(sys.version)\n",
    "print(\"Version Info\")\n",
    "print(sys.version_info)"
   ]
  },
  {
   "cell_type": "markdown",
   "id": "a41e7515",
   "metadata": {},
   "source": [
    "2. Write a Python program to display the current date and time."
   ]
  },
  {
   "cell_type": "code",
   "execution_count": 2,
   "id": "a28317c1",
   "metadata": {},
   "outputs": [
    {
     "name": "stdout",
     "output_type": "stream",
     "text": [
      "2022-10-09 14:27:42.126583\n"
     ]
    }
   ],
   "source": [
    "import datetime\n",
    "x=datetime.datetime.now()\n",
    "print(x)"
   ]
  },
  {
   "cell_type": "code",
   "execution_count": 5,
   "id": "f571dac9",
   "metadata": {},
   "outputs": [
    {
     "name": "stdout",
     "output_type": "stream",
     "text": [
      "Current date and time :\n",
      "2022-10-09 14:41:07\n"
     ]
    }
   ],
   "source": [
    "import datetime\n",
    "now=datetime.datetime.now()\n",
    "print(\"Current date and time :\")\n",
    "print(now.strftime(\"%Y-%m-%d %H:%M:%S\"))"
   ]
  },
  {
   "cell_type": "markdown",
   "id": "6787789b",
   "metadata": {},
   "source": [
    "3. Write a Python program which accepts the radius of a circle from the user and compute the area. "
   ]
  },
  {
   "cell_type": "code",
   "execution_count": 6,
   "id": "bf5b857d",
   "metadata": {},
   "outputs": [
    {
     "name": "stdout",
     "output_type": "stream",
     "text": [
      "Input the radius of the circle : 1.1\n",
      "The area of the circle with radius 1.1is: 3.8013271108436504\n"
     ]
    }
   ],
   "source": [
    "from math import pi\n",
    "r=float(input(\"Input the radius of the circle : \"))\n",
    "print(\"The area of the circle with radius \"+str(r)+\"is: \"+str(pi*r**2))"
   ]
  },
  {
   "cell_type": "markdown",
   "id": "ee1bb22f",
   "metadata": {},
   "source": [
    "4.Write a Python program which accepts the user's first and last name and print them in reverse order with a space between them\n"
   ]
  },
  {
   "cell_type": "code",
   "execution_count": 8,
   "id": "91c7d144",
   "metadata": {},
   "outputs": [
    {
     "name": "stdout",
     "output_type": "stream",
     "text": [
      "Input your First Name: Kanye\n",
      "Input your Last Name: West\n",
      "Hello West Kanye\n"
     ]
    }
   ],
   "source": [
    "fname=input(\"Input your First Name: \")\n",
    "lname=input(\"Input your Last Name: \")\n",
    "print(\"Hello \"+lname+\" \"+fname)"
   ]
  },
  {
   "cell_type": "markdown",
   "id": "3e66215b",
   "metadata": {},
   "source": [
    "5.Write a Python program which accepts a sequence of comma-separated numbers from user and generate a list and a tuple with those numbers"
   ]
  },
  {
   "cell_type": "code",
   "execution_count": 12,
   "id": "93196583",
   "metadata": {},
   "outputs": [
    {
     "name": "stdout",
     "output_type": "stream",
     "text": [
      "Input the comma-seperated data:1,2,3\n",
      "List : ['1', '2', '3']\n",
      "Tuple : ('1', '2', '3')\n"
     ]
    }
   ],
   "source": [
    "comma_data=input(\"Input the comma-seperated data:\")\n",
    "list1=comma_data.split(\",\")\n",
    "tuple1=tuple(list1)\n",
    "print(\"List :\",list1)\n",
    "print(\"Tuple :\",tuple1)"
   ]
  },
  {
   "cell_type": "markdown",
   "id": "dd4ec4ce",
   "metadata": {},
   "source": [
    "6.Write a Python program to accept a filename from the user and print the extension of that. "
   ]
  },
  {
   "cell_type": "code",
   "execution_count": 21,
   "id": "3e0688a6",
   "metadata": {},
   "outputs": [
    {
     "name": "stdout",
     "output_type": "stream",
     "text": [
      "Input the Filename: abc.java\n",
      "The extension of the file is : 'java'\n"
     ]
    }
   ],
   "source": [
    "filename=input(\"Input the Filename: \")\n",
    "f_extns=filename.split(\".\");\n",
    "print(\"The extension of the file is : \"+repr(f_extns[-1]))"
   ]
  },
  {
   "cell_type": "markdown",
   "id": "8ce9bb55",
   "metadata": {},
   "source": [
    "7.Write a Python program to display the first and last colors from the following list."
   ]
  },
  {
   "cell_type": "code",
   "execution_count": 23,
   "id": "8d427931",
   "metadata": {},
   "outputs": [
    {
     "name": "stdout",
     "output_type": "stream",
     "text": [
      "Red Black\n"
     ]
    }
   ],
   "source": [
    "color_list=[\"Red\",\"Green\",\"White\",\"Black\"]\n",
    "print(\"%s %s\" %(color_list[0],color_list[-1]))"
   ]
  },
  {
   "cell_type": "markdown",
   "id": "cf6c6281",
   "metadata": {},
   "source": [
    "8.Write a Python program that accepts an integer (n) and computes the value of n+nn+nnn. "
   ]
  },
  {
   "cell_type": "code",
   "execution_count": 6,
   "id": "a198cc51",
   "metadata": {},
   "outputs": [
    {
     "name": "stdout",
     "output_type": "stream",
     "text": [
      "Input the value of n :5\n",
      "615\n"
     ]
    }
   ],
   "source": [
    "a=input(\"Input the value of n :\")\n",
    "n1=int(\"%s\" %(n))\n",
    "n2=int(\"%s%s\" %(n,n))\n",
    "n3=int(\"%s%s%s\" %(n,n,n))\n",
    "print(n1+n2+n3)\n"
   ]
  },
  {
   "cell_type": "markdown",
   "id": "ee059c52",
   "metadata": {},
   "source": [
    " 9.Write a Python program to get the volume of a sphere with radius 6.\n"
   ]
  },
  {
   "cell_type": "code",
   "execution_count": 10,
   "id": "db5577f9",
   "metadata": {},
   "outputs": [
    {
     "name": "stdout",
     "output_type": "stream",
     "text": [
      "The volume of the sphere is:  904.7786842338603\n"
     ]
    }
   ],
   "source": [
    "from math import pi\n",
    "radius=6.0;\n",
    "volume=(4/3)*pi*radius**3\n",
    "print(\"The volume of the sphere is: \",volume)"
   ]
  },
  {
   "cell_type": "markdown",
   "id": "389e545b",
   "metadata": {},
   "source": [
    " 10. Write a Python program to convert seconds to day, hour, minutes and seconds.  \n"
   ]
  },
  {
   "cell_type": "code",
   "execution_count": 18,
   "id": "ef174a3a",
   "metadata": {},
   "outputs": [
    {
     "name": "stdout",
     "output_type": "stream",
     "text": [
      "Input time in seconds: 1234567890\n",
      "d:h:m:s-> 14288 days :23 hours:31 minutes:30 seconds\n"
     ]
    }
   ],
   "source": [
    "time=float(input(\"Input time in seconds: \"))\n",
    "day=time//(24*3600)\n",
    "time=time%(24*3600)\n",
    "hour=time//(3600)\n",
    "time=time%(3600)\n",
    "minutes=time//60\n",
    "time=time%(60)\n",
    "seconds=time\n",
    "print(\"d:h:m:s-> %d days :%d hours:%d minutes:%d seconds\" % (day, hour, minutes, seconds))"
   ]
  },
  {
   "cell_type": "code",
   "execution_count": null,
   "id": "0c6fc081",
   "metadata": {},
   "outputs": [],
   "source": []
  }
 ],
 "metadata": {
  "kernelspec": {
   "display_name": "Python 3 (ipykernel)",
   "language": "python",
   "name": "python3"
  },
  "language_info": {
   "codemirror_mode": {
    "name": "ipython",
    "version": 3
   },
   "file_extension": ".py",
   "mimetype": "text/x-python",
   "name": "python",
   "nbconvert_exporter": "python",
   "pygments_lexer": "ipython3",
   "version": "3.9.12"
  }
 },
 "nbformat": 4,
 "nbformat_minor": 5
}
