{
 "cells": [
  {
   "cell_type": "markdown",
   "id": "bb52541f",
   "metadata": {},
   "source": [
    "Business challenge/requirement\n",
    "LifeTel Telecom is the latest entrant in the highly competitive Telecom market of Singapore. It issues SIM to the verified users. Till now verification was manual through the photocopy of approved id card document. However, government has recently introduced Social ID called Reference ID which is mapped to fingerprint of user. LifeTel should now verify user against the fingerprint and Reference ID\n",
    "\n",
    "\n",
    "Key issues\n",
    "Build a system where when user enters Reference ID it is encrypted, so that hackers cannot view the mapping of Reference ID and finger print\n",
    "\n",
    "\n",
    "Considerations\n",
    "System should be secure\n",
    "\n",
    "\n",
    "Data volume\n",
    "NA\n",
    "\n",
    "Additional information\n",
    "NA\n",
    "\n",
    "\n",
    "Business benefits\n",
    "Company will be able to quickly issue SIM to user and expected gain in volume is approximately 10 times as the manual process of verification is replaced with secure automated system\n"
   ]
  },
  {
   "cell_type": "code",
   "execution_count": 7,
   "id": "4d8640a9",
   "metadata": {},
   "outputs": [
    {
     "name": "stdout",
     "output_type": "stream",
     "text": [
      "Enter Reference ID:1234873hnskf\n",
      "Is validated:  True\n",
      "Congratulations!!!Refernce ID is encrypted b'MTIzNDg3M2huc2tm'\n"
     ]
    }
   ],
   "source": [
    "import base64\n",
    "reference_id=input('Enter Reference ID:')\n",
    "if(len(reference_id)!=12):\n",
    "    print(\"Reference ID should be of 12 characters\")\n",
    "else:\n",
    "    allowed_characters=\"ABCDEFGHIJKLMNOPQRSTUVWXYZ\"+\"abcdefghijklmnopqrstuvwxyz\"+\"0123456789\"\n",
    "    is_validated=True\n",
    "    for char in reference_id:\n",
    "        if(char not in allowed_characters):\n",
    "            is_validated=False\n",
    "            break\n",
    "    print(\"Is validated: \",is_validated)\n",
    "    if(not is_validated):\n",
    "        print(\"Reference ID should contain only numbers and alpahbets\")\n",
    "    else:\n",
    "        reference_id_encrypt=base64.b64encode(reference_id.encode())\n",
    "        print(\"Congratulations!!!Refernce ID is encrypted\",reference_id_encrypt)\n",
    "    "
   ]
  },
  {
   "cell_type": "code",
   "execution_count": null,
   "id": "ea914f16",
   "metadata": {},
   "outputs": [],
   "source": [
    "\n",
    "        "
   ]
  },
  {
   "cell_type": "code",
   "execution_count": null,
   "id": "94e18f87",
   "metadata": {},
   "outputs": [],
   "source": []
  }
 ],
 "metadata": {
  "kernelspec": {
   "display_name": "Python 3 (ipykernel)",
   "language": "python",
   "name": "python3"
  },
  "language_info": {
   "codemirror_mode": {
    "name": "ipython",
    "version": 3
   },
   "file_extension": ".py",
   "mimetype": "text/x-python",
   "name": "python",
   "nbconvert_exporter": "python",
   "pygments_lexer": "ipython3",
   "version": "3.9.12"
  }
 },
 "nbformat": 4,
 "nbformat_minor": 5
}
