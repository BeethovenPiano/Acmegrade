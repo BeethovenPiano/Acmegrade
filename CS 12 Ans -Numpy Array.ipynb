{
 "cells": [
  {
   "cell_type": "markdown",
   "id": "facf9140",
   "metadata": {},
   "source": [
    "1. Write a NumPy program to convert a list of numeric value into a one-dimensional NumPy array. \n",
    "Expected Output:\n",
    "Original List: [12.23, 13.32, 100, 36.32]\n",
    "One-dimensional NumPy array: [ 12.23 13.32 100. 36.32]"
   ]
  },
  {
   "cell_type": "code",
   "execution_count": 17,
   "id": "7a07386e",
   "metadata": {},
   "outputs": [
    {
     "name": "stdout",
     "output_type": "stream",
     "text": [
      "Original List: [12.23, 13.32, 100, 36.32]\n",
      "One-dimensional NumPy array:  [ 12.23  13.32 100.    36.32]\n"
     ]
    }
   ],
   "source": [
    "import numpy as np\n",
    "l = [12.23, 13.32, 100, 36.32]\n",
    "print(\"Original List:\",l)\n",
    "a = np.array(l)\n",
    "print(\"One-dimensional NumPy array: \",a)"
   ]
  },
  {
   "cell_type": "markdown",
   "id": "b6cafaf6",
   "metadata": {},
   "source": [
    "2.Write a NumPy program to create a 3x3 matrix with values ranging from 2 to 10.  \n",
    "Expected Output:\n",
    "[[ 2 3 4]\n",
    "[ 5 6 7]\n",
    "[ 8 9 10]]"
   ]
  },
  {
   "cell_type": "code",
   "execution_count": 18,
   "id": "fe10568c",
   "metadata": {},
   "outputs": [
    {
     "name": "stdout",
     "output_type": "stream",
     "text": [
      "[[ 2  3  4]\n",
      " [ 5  6  7]\n",
      " [ 8  9 10]]\n"
     ]
    }
   ],
   "source": [
    "import numpy as np\n",
    "x =  np.arange(2, 11).reshape(3,3)\n",
    "print(x)\n"
   ]
  },
  {
   "cell_type": "markdown",
   "id": "54a3a608",
   "metadata": {},
   "source": [
    "3. Write a NumPy program to create a null vector of size 10 and update sixth value to 11. \n",
    "[ 0. 0. 0. 0. 0. 0. 0. 0. 0. 0.]\n",
    "Update sixth value to 11\n",
    "[ 0. 0. 0. 0. 0. 0. 11. 0. 0. 0.]"
   ]
  },
  {
   "cell_type": "code",
   "execution_count": 19,
   "id": "9b6fb923",
   "metadata": {},
   "outputs": [
    {
     "name": "stdout",
     "output_type": "stream",
     "text": [
      "[0. 0. 0. 0. 0. 0. 0. 0. 0. 0.]\n",
      "Update sixth value to 11\n",
      "[ 0.  0.  0.  0.  0.  0. 11.  0.  0.  0.]\n"
     ]
    }
   ],
   "source": [
    "import numpy as np\n",
    "x = np.zeros(10)\n",
    "print(x)\n",
    "print(\"Update sixth value to 11\")\n",
    "x[6] = 11\n",
    "print(x)"
   ]
  },
  {
   "cell_type": "markdown",
   "id": "3c409dc8",
   "metadata": {},
   "source": [
    "4. Write a NumPy program to create an array with values ranging from 12 to 38. \n",
    "Expected Output:\n",
    "[12 13 14 15 16 17 18 19 20 21 22 23 24 25 26 27 28 29 30 31 32 33 34 35 36 37]"
   ]
  },
  {
   "cell_type": "code",
   "execution_count": 20,
   "id": "25da1e8f",
   "metadata": {},
   "outputs": [
    {
     "name": "stdout",
     "output_type": "stream",
     "text": [
      "[12 13 14 15 16 17 18 19 20 21 22 23 24 25 26 27 28 29 30 31 32 33 34 35\n",
      " 36 37]\n"
     ]
    }
   ],
   "source": [
    "import numpy as np\n",
    "x = np.arange(12, 38)\n",
    "print(x)"
   ]
  },
  {
   "cell_type": "markdown",
   "id": "4dc22017",
   "metadata": {},
   "source": [
    "5. Write a NumPy program to reverse an array (first element becomes last). \n",
    " \n",
    "Original array:\n",
    "[12 13 14 15 16 17 18 19 20 21 22 23 24 25 26 27 28 29 30 31 32 33 34 35 36 37]\n",
    "Reverse array:\n",
    "[37 36 35 34 33 32 31 30 29 28 27 26 25 24 23 22 21 20 19 18 17 16 15 14 13 12]"
   ]
  },
  {
   "cell_type": "code",
   "execution_count": 21,
   "id": "9021638b",
   "metadata": {},
   "outputs": [
    {
     "name": "stdout",
     "output_type": "stream",
     "text": [
      "Original array:\n",
      "[12 13 14 15 16 17 18 19 20 21 22 23 24 25 26 27 28 29 30 31 32 33 34 35\n",
      " 36 37]\n",
      "Reverse array:\n",
      "[37 36 35 34 33 32 31 30 29 28 27 26 25 24 23 22 21 20 19 18 17 16 15 14\n",
      " 13 12]\n"
     ]
    }
   ],
   "source": [
    "import numpy as np\n",
    "import numpy as np\n",
    "x = np.arange(12, 38)\n",
    "print(\"Original array:\")\n",
    "print(x)\n",
    "print(\"Reverse array:\")\n",
    "x = x[::-1]\n",
    "print(x)\n"
   ]
  },
  {
   "cell_type": "markdown",
   "id": "f0f7d2f3",
   "metadata": {},
   "source": [
    "6. Write a NumPy program to convert an array to a float type.  \n",
    "Sample output:\n",
    "Original array\n",
    "[1, 2, 3, 4]\n",
    "Array converted to a float type:\n",
    "[ 1. 2. 3. 4.]\n"
   ]
  },
  {
   "cell_type": "code",
   "execution_count": 22,
   "id": "60c28397",
   "metadata": {},
   "outputs": [
    {
     "name": "stdout",
     "output_type": "stream",
     "text": [
      "Original array\n",
      "[1, 2, 3, 4]\n",
      "Array converted to a float type:\n",
      "[1. 2. 3. 4.]\n"
     ]
    }
   ],
   "source": [
    "import numpy as np\n",
    "import numpy as np\n",
    "a = [1, 2, 3, 4]\n",
    "print(\"Original array\")\n",
    "print(a)\n",
    "x = np.asfarray(a)\n",
    "print(\"Array converted to a float type:\")\n",
    "print(x)"
   ]
  },
  {
   "cell_type": "markdown",
   "id": "3f3eb4c8",
   "metadata": {},
   "source": [
    " 7. Write a NumPy program to create a 2d array with 1 on the border and 0 inside. \n",
    "Expected Output:\n",
    "Original array:\n",
    "[[ 1. 1. 1. 1. 1.]\n",
    "...................\n",
    "[ 1. 1. 1. 1. 1.]]\n",
    "1 on the border and 0 inside in the array\n",
    "[[ 1. 1. 1. 1. 1.]\n",
    "...................\n",
    "[ 1. 1. 1. 1. 1.]]"
   ]
  },
  {
   "cell_type": "code",
   "execution_count": 23,
   "id": "b8aa6fe9",
   "metadata": {},
   "outputs": [
    {
     "name": "stdout",
     "output_type": "stream",
     "text": [
      "Original array:\n",
      "[[1. 1. 1. 1. 1.]\n",
      " [1. 1. 1. 1. 1.]\n",
      " [1. 1. 1. 1. 1.]\n",
      " [1. 1. 1. 1. 1.]\n",
      " [1. 1. 1. 1. 1.]]\n",
      "1 on the border and 0 inside in the array\n",
      "[[1. 1. 1. 1. 1.]\n",
      " [1. 0. 0. 0. 1.]\n",
      " [1. 0. 0. 0. 1.]\n",
      " [1. 0. 0. 0. 1.]\n",
      " [1. 1. 1. 1. 1.]]\n"
     ]
    }
   ],
   "source": [
    "import numpy as np\n",
    "x = np.ones((5,5))\n",
    "print(\"Original array:\")\n",
    "print(x)\n",
    "print(\"1 on the border and 0 inside in the array\")\n",
    "x[1:-1,1:-1] = 0\n",
    "print(x)"
   ]
  },
  {
   "cell_type": "markdown",
   "id": "8c9944e4",
   "metadata": {},
   "source": [
    "8. Write a NumPy program to add a border (filled with 0's) around an existing array.  \n",
    "Expected Output:\n",
    "Original array:\n",
    "[[ 1. 1. 1.]\n",
    "[ 1. 1. 1.]\n",
    "[ 1. 1. 1.]]\n",
    "1 on the border and 0 inside in the array\n",
    "[[ 0. 0. 0. 0. 0.]\n",
    "...........\n",
    "[ 0. 0. 0. 0. 0.]]\n"
   ]
  },
  {
   "cell_type": "code",
   "execution_count": 24,
   "id": "a7421d21",
   "metadata": {},
   "outputs": [
    {
     "name": "stdout",
     "output_type": "stream",
     "text": [
      "Original array:\n",
      "[[1. 1. 1.]\n",
      " [1. 1. 1.]\n",
      " [1. 1. 1.]]\n",
      "0 on the border and 1 inside in the array\n",
      "[[0. 0. 0. 0. 0.]\n",
      " [0. 1. 1. 1. 0.]\n",
      " [0. 1. 1. 1. 0.]\n",
      " [0. 1. 1. 1. 0.]\n",
      " [0. 0. 0. 0. 0.]]\n"
     ]
    }
   ],
   "source": [
    "import numpy as np\n",
    "x = np.ones((3,3))\n",
    "print(\"Original array:\")\n",
    "print(x)\n",
    "print(\"0 on the border and 1 inside in the array\")\n",
    "x = np.pad(x, pad_width=1, mode='constant', constant_values=0)\n",
    "print(x)"
   ]
  },
  {
   "cell_type": "markdown",
   "id": "01ed0830",
   "metadata": {},
   "source": [
    "9. Write a NumPy program to create a 8x8 matrix and fill it with a checkerboard pattern.  \n",
    "Checkerboard pattern:\n",
    "Checkerboard pattern:\n",
    "[[0 1 0 1 0 1 0 1]\n",
    " [1 0 1 0 1 0 1 0]\n",
    " [0 1 0 1 0 1 0 1]\n",
    " [1 0 1 0 1 0 1 0]\n",
    " [0 1 0 1 0 1 0 1]\n",
    " [1 0 1 0 1 0 1 0]\n",
    " [0 1 0 1 0 1 0 1]\n",
    " [1 0 1 0 1 0 1 0]]\n"
   ]
  },
  {
   "cell_type": "code",
   "execution_count": 25,
   "id": "fde5992b",
   "metadata": {},
   "outputs": [
    {
     "name": "stdout",
     "output_type": "stream",
     "text": [
      "Checkerboard pattern:\n",
      "[[0 1 0 1 0 1 0 1]\n",
      " [1 0 1 0 1 0 1 0]\n",
      " [0 1 0 1 0 1 0 1]\n",
      " [1 0 1 0 1 0 1 0]\n",
      " [0 1 0 1 0 1 0 1]\n",
      " [1 0 1 0 1 0 1 0]\n",
      " [0 1 0 1 0 1 0 1]\n",
      " [1 0 1 0 1 0 1 0]]\n"
     ]
    }
   ],
   "source": [
    "import numpy as np\n",
    "x = np.ones((3,3))\n",
    "print(\"Checkerboard pattern:\")\n",
    "x = np.zeros((8,8),dtype=int)\n",
    "x[1::2,::2] = 1\n",
    "x[::2,1::2] = 1\n",
    "print(x)"
   ]
  },
  {
   "cell_type": "markdown",
   "id": "cc08c18b",
   "metadata": {},
   "source": [
    "10. Write a NumPy program to convert a list and tuple into arrays. \n",
    " List to array:\n",
    "[1 2 3 4 5 6 7 8]\n",
    "Tuple to array:\n",
    "[[8 4 6]\n",
    "[1 2 3]]"
   ]
  },
  {
   "cell_type": "code",
   "execution_count": 26,
   "id": "85301b3d",
   "metadata": {},
   "outputs": [
    {
     "name": "stdout",
     "output_type": "stream",
     "text": [
      "List to array: \n",
      "[1 2 3 4 5 6 7 8]\n",
      "Tuple to array: \n",
      "[[8 4 6]\n",
      " [1 2 3]]\n"
     ]
    }
   ],
   "source": [
    "import numpy as np\n",
    "my_list = [1, 2, 3, 4, 5, 6, 7, 8]\n",
    "print(\"List to array: \")\n",
    "print(np.asarray(my_list))\n",
    "my_tuple = ([8, 4, 6], [1, 2, 3])\n",
    "print(\"Tuple to array: \")\n",
    "print(np.asarray(my_tuple))"
   ]
  },
  {
   "cell_type": "markdown",
   "id": "ce485e9e",
   "metadata": {},
   "source": [
    "11. Write a NumPy program to append values to the end of an array.  \n",
    "Expected Output:\n",
    "Original array:\n",
    "[10, 20, 30]\n",
    "After append values to the end of the array:\n",
    "[10 20 30 40 50 60 70 80 90]"
   ]
  },
  {
   "cell_type": "code",
   "execution_count": 27,
   "id": "5bddf781",
   "metadata": {},
   "outputs": [
    {
     "name": "stdout",
     "output_type": "stream",
     "text": [
      "Original array:\n",
      "[10, 20, 30]\n",
      "After append values to the end of the array:\n",
      "[10 20 30 40 50 60 70 80 90]\n"
     ]
    }
   ],
   "source": [
    "import numpy as np\n",
    "x = [10, 20, 30]\n",
    "print(\"Original array:\")\n",
    "print(x)\n",
    "x = np.append(x, [[40, 50, 60], [70, 80, 90]])\n",
    "print(\"After append values to the end of the array:\")\n",
    "print(x)"
   ]
  },
  {
   "cell_type": "markdown",
   "id": "4aca718a",
   "metadata": {},
   "source": [
    "12. Write a NumPy program to create an empty and a full array. \n",
    " Expected Output:\n",
    "[ 6.93270651e-310 1.59262180e-316 6.93270559e-310 6.93270665e-310]\n",
    "[ 6.93270667e-310 6.93270671e-310 6.93270668e-310 6.93270483e-310]\n",
    "[ 6.93270668e-310 6.93270671e-310 6.93270370e-310 6.93270488e-310]]\n",
    "[[6 6 6]\n",
    "[6 6 6]\n",
    "[6 6 6]]"
   ]
  },
  {
   "cell_type": "code",
   "execution_count": 28,
   "id": "47999f74",
   "metadata": {},
   "outputs": [
    {
     "name": "stdout",
     "output_type": "stream",
     "text": [
      "[[8.24787583e-312 3.16202013e-322 0.00000000e+000 0.00000000e+000]\n",
      " [1.03977794e-312 2.34493561e-056 6.48974690e+169 2.61006924e-057]\n",
      " [1.31267465e-071 6.23176756e+174 3.76442364e+179 8.37946041e+165]]\n",
      "[[6 6 6]\n",
      " [6 6 6]\n",
      " [6 6 6]]\n"
     ]
    }
   ],
   "source": [
    "import numpy as np\n",
    "x = np.empty((3,4))\n",
    "print(x)\n",
    "y = np.full((3,3),6)\n",
    "print(y)"
   ]
  },
  {
   "cell_type": "markdown",
   "id": "c97beb04",
   "metadata": {},
   "source": [
    "13. Write a NumPy program to convert the values of Centigrade degrees into Fahrenheit degrees. Centigrade values are stored into a NumPy array. \n",
    " Sample Array [0, 12, 45.21 ,34, 99.91]\n",
    "Expected Output:\n",
    "Values in Fahrenheit degrees:\n",
    "[ 0. 12. 45.21 34. 99.91]\n",
    "Values in Centigrade degrees:\n",
    "[-17.77777778 -11.11111111 7.33888889 1.11111111 37.72777778]\n"
   ]
  },
  {
   "cell_type": "code",
   "execution_count": 29,
   "id": "5b0ab80e",
   "metadata": {},
   "outputs": [
    {
     "name": "stdout",
     "output_type": "stream",
     "text": [
      "Values in Fahrenheit degrees:\n",
      "[ 0.   12.   45.21 34.   99.91]\n",
      "Values in  Centigrade degrees:\n",
      "[-17.77777778 -11.11111111   7.33888889   1.11111111  37.72777778]\n"
     ]
    }
   ],
   "source": [
    "import numpy as np\n",
    "fvalues = [0, 12, 45.21, 34, 99.91]\n",
    "F = np.array(fvalues)\n",
    "print(\"Values in Fahrenheit degrees:\")\n",
    "print(F)\n",
    "print(\"Values in  Centigrade degrees:\") \n",
    "print(5*F/9 - 5*32/9)"
   ]
  },
  {
   "cell_type": "markdown",
   "id": "9e0b7433",
   "metadata": {},
   "source": [
    "14. Write a NumPy program to find the real and imaginary parts of an array of complex numbers.  \n",
    "Expected Output:\n",
    "Original array [ 1.00000000+0.j 0.70710678+0.70710678j]\n",
    "Real part of the array:\n",
    "[ 1. 0.70710678]\n",
    "Imaginary part of the array:\n",
    "[ 0. 0.70710678]"
   ]
  },
  {
   "cell_type": "code",
   "execution_count": 30,
   "id": "75fd1aca",
   "metadata": {},
   "outputs": [
    {
     "name": "stdout",
     "output_type": "stream",
     "text": [
      "Original array:x  [1.+0.j]\n",
      "Original array:y  [0.70710678+0.70710678j]\n",
      "Real part of the array:\n",
      "[1.]\n",
      "[0.70710678]\n",
      "Imaginary part of the array:\n",
      "[0.]\n",
      "[0.70710678]\n"
     ]
    }
   ],
   "source": [
    "import numpy as np\n",
    "x = np.sqrt([1+0j])\n",
    "y = np.sqrt([0+1j])\n",
    "print(\"Original array:x \",x)\n",
    "print(\"Original array:y \",y)\n",
    "print(\"Real part of the array:\")\n",
    "print(x.real)\n",
    "print(y.real)\n",
    "print(\"Imaginary part of the array:\")\n",
    "print(x.imag)\n",
    "print(y.imag)\n"
   ]
  },
  {
   "cell_type": "code",
   "execution_count": null,
   "id": "999d2be5",
   "metadata": {},
   "outputs": [],
   "source": []
  }
 ],
 "metadata": {
  "kernelspec": {
   "display_name": "Python 3 (ipykernel)",
   "language": "python",
   "name": "python3"
  },
  "language_info": {
   "codemirror_mode": {
    "name": "ipython",
    "version": 3
   },
   "file_extension": ".py",
   "mimetype": "text/x-python",
   "name": "python",
   "nbconvert_exporter": "python",
   "pygments_lexer": "ipython3",
   "version": "3.9.12"
  }
 },
 "nbformat": 4,
 "nbformat_minor": 5
}
